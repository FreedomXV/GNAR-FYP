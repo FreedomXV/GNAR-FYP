{
 "cells": [
  {
   "cell_type": "code",
   "execution_count": 24,
   "id": "cee9d222",
   "metadata": {},
   "outputs": [],
   "source": [
    "import urllib.request\n",
    "import os\n",
    "import time\n",
    "from datetime import datetime\n",
    "\n",
    "years = [2023, 2024, 2025]\n",
    "months = [i for i in range(1,13)]\n",
    "filepath = 'Weather Data'"
   ]
  },
  {
   "cell_type": "code",
   "execution_count": null,
   "id": "00f554a6",
   "metadata": {},
   "outputs": [],
   "source": [
    "for year in years:\n",
    "    for month in months:\n",
    "        weather_file = f\"DAILYDATA_S24_{year}{str(month).zfill(2)}.csv\"\n",
    "        weather_url = f'https://www.weather.gov.sg/files/dailydata/{weather_file}'\n",
    "\n",
    "        if year == datetime.now().year and month == datetime.now().month:\n",
    "            break\n",
    "\n",
    "        try:\n",
    "            urllib.request.urlretrieve(weather_url, os.path.join(filepath, str(year), weather_file))\n",
    "        except:\n",
    "            continue"
   ]
  }
 ],
 "metadata": {
  "kernelspec": {
   "display_name": ".venv",
   "language": "python",
   "name": "python3"
  },
  "language_info": {
   "codemirror_mode": {
    "name": "ipython",
    "version": 3
   },
   "file_extension": ".py",
   "mimetype": "text/x-python",
   "name": "python",
   "nbconvert_exporter": "python",
   "pygments_lexer": "ipython3",
   "version": "3.10.4"
  }
 },
 "nbformat": 4,
 "nbformat_minor": 5
}
