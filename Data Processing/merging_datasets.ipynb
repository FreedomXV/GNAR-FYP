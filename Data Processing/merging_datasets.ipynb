{
 "cells": [
  {
   "cell_type": "code",
   "execution_count": 2,
   "metadata": {},
   "outputs": [],
   "source": [
    "import os\n",
    "import pandas as pd"
   ]
  },
  {
   "cell_type": "code",
   "execution_count": 3,
   "metadata": {},
   "outputs": [],
   "source": [
    "mrt_master_df = pd.DataFrame()"
   ]
  },
  {
   "cell_type": "code",
   "execution_count": 11,
   "metadata": {},
   "outputs": [
    {
     "name": "stdout",
     "output_type": "stream",
     "text": [
      "transport_node_train_202403.csv\n",
      "transport_node_train_202404.csv\n",
      "transport_node_train_202405.csv\n",
      "transport_node_train_202406.csv\n",
      "transport_node_train_202407.csv\n",
      "transport_node_train_202408.csv\n"
     ]
    }
   ],
   "source": [
    "filepath = 'Data\\LTA API\\PassengerVolumeByTrainStations'\n",
    "\n",
    "mrt_dfs = []\n",
    "\n",
    "for file in os.listdir(filepath):\n",
    "    if file.startswith('transport_node_train') and file.endswith('.csv'):\n",
    "        print(file)\n",
    "        temp_df = pd.read_csv(os.path.join(filepath, file))\n",
    "        mrt_dfs.append(temp_df)\n",
    "\n",
    "mrt_master_df = pd.concat(mrt_dfs)"
   ]
  },
  {
   "cell_type": "code",
   "execution_count": 13,
   "metadata": {},
   "outputs": [],
   "source": [
    "mrt_master_df.to_csv('Data\\Master Sets\\TrainStationMaster.csv')"
   ]
  }
 ],
 "metadata": {
  "kernelspec": {
   "display_name": ".venv",
   "language": "python",
   "name": "python3"
  },
  "language_info": {
   "codemirror_mode": {
    "name": "ipython",
    "version": 3
   },
   "file_extension": ".py",
   "mimetype": "text/x-python",
   "name": "python",
   "nbconvert_exporter": "python",
   "pygments_lexer": "ipython3",
   "version": "3.9.13"
  }
 },
 "nbformat": 4,
 "nbformat_minor": 2
}
