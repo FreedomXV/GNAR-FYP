{
 "cells": [
  {
   "cell_type": "code",
   "execution_count": 2,
   "metadata": {},
   "outputs": [],
   "source": [
    "import pandas as pd\n",
    "from tqdm import tqdm"
   ]
  },
  {
   "cell_type": "code",
   "execution_count": 3,
   "metadata": {},
   "outputs": [],
   "source": [
    "mrt_master_df = pd.read_csv('Data/Master Sets/TrainStationMaster.csv')"
   ]
  },
  {
   "cell_type": "code",
   "execution_count": 4,
   "metadata": {},
   "outputs": [
    {
     "data": {
      "text/html": [
       "<div>\n",
       "<style scoped>\n",
       "    .dataframe tbody tr th:only-of-type {\n",
       "        vertical-align: middle;\n",
       "    }\n",
       "\n",
       "    .dataframe tbody tr th {\n",
       "        vertical-align: top;\n",
       "    }\n",
       "\n",
       "    .dataframe thead th {\n",
       "        text-align: right;\n",
       "    }\n",
       "</style>\n",
       "<table border=\"1\" class=\"dataframe\">\n",
       "  <thead>\n",
       "    <tr style=\"text-align: right;\">\n",
       "      <th></th>\n",
       "      <th>Unnamed: 0</th>\n",
       "      <th>YEAR_MONTH</th>\n",
       "      <th>DAY_TYPE</th>\n",
       "      <th>TIME_PER_HOUR</th>\n",
       "      <th>PT_TYPE</th>\n",
       "      <th>PT_CODE</th>\n",
       "      <th>TOTAL_TAP_IN_VOLUME</th>\n",
       "      <th>TOTAL_TAP_OUT_VOLUME</th>\n",
       "    </tr>\n",
       "  </thead>\n",
       "  <tbody>\n",
       "    <tr>\n",
       "      <th>0</th>\n",
       "      <td>0</td>\n",
       "      <td>2024-03</td>\n",
       "      <td>WEEKDAY</td>\n",
       "      <td>11</td>\n",
       "      <td>TRAIN</td>\n",
       "      <td>NS7</td>\n",
       "      <td>21943</td>\n",
       "      <td>15130</td>\n",
       "    </tr>\n",
       "    <tr>\n",
       "      <th>1</th>\n",
       "      <td>1</td>\n",
       "      <td>2024-03</td>\n",
       "      <td>WEEKENDS/HOLIDAY</td>\n",
       "      <td>11</td>\n",
       "      <td>TRAIN</td>\n",
       "      <td>NS7</td>\n",
       "      <td>13062</td>\n",
       "      <td>14512</td>\n",
       "    </tr>\n",
       "    <tr>\n",
       "      <th>2</th>\n",
       "      <td>2</td>\n",
       "      <td>2024-03</td>\n",
       "      <td>WEEKDAY</td>\n",
       "      <td>16</td>\n",
       "      <td>TRAIN</td>\n",
       "      <td>SW4</td>\n",
       "      <td>2124</td>\n",
       "      <td>3233</td>\n",
       "    </tr>\n",
       "    <tr>\n",
       "      <th>3</th>\n",
       "      <td>3</td>\n",
       "      <td>2024-03</td>\n",
       "      <td>WEEKENDS/HOLIDAY</td>\n",
       "      <td>16</td>\n",
       "      <td>TRAIN</td>\n",
       "      <td>SW4</td>\n",
       "      <td>1532</td>\n",
       "      <td>1736</td>\n",
       "    </tr>\n",
       "    <tr>\n",
       "      <th>4</th>\n",
       "      <td>4</td>\n",
       "      <td>2024-03</td>\n",
       "      <td>WEEKENDS/HOLIDAY</td>\n",
       "      <td>10</td>\n",
       "      <td>TRAIN</td>\n",
       "      <td>CC5</td>\n",
       "      <td>1886</td>\n",
       "      <td>2659</td>\n",
       "    </tr>\n",
       "  </tbody>\n",
       "</table>\n",
       "</div>"
      ],
      "text/plain": [
       "   Unnamed: 0 YEAR_MONTH          DAY_TYPE  TIME_PER_HOUR PT_TYPE PT_CODE  \\\n",
       "0           0    2024-03           WEEKDAY             11   TRAIN     NS7   \n",
       "1           1    2024-03  WEEKENDS/HOLIDAY             11   TRAIN     NS7   \n",
       "2           2    2024-03           WEEKDAY             16   TRAIN     SW4   \n",
       "3           3    2024-03  WEEKENDS/HOLIDAY             16   TRAIN     SW4   \n",
       "4           4    2024-03  WEEKENDS/HOLIDAY             10   TRAIN     CC5   \n",
       "\n",
       "   TOTAL_TAP_IN_VOLUME  TOTAL_TAP_OUT_VOLUME  \n",
       "0                21943                 15130  \n",
       "1                13062                 14512  \n",
       "2                 2124                  3233  \n",
       "3                 1532                  1736  \n",
       "4                 1886                  2659  "
      ]
     },
     "execution_count": 4,
     "metadata": {},
     "output_type": "execute_result"
    }
   ],
   "source": [
    "mrt_master_df.head()"
   ]
  },
  {
   "cell_type": "code",
   "execution_count": 51,
   "metadata": {},
   "outputs": [],
   "source": [
    "station_network_list = mrt_master_df['PT_CODE'].unique()\n",
    "station_network_list.sort()\n",
    "time_interval = mrt_master_df['YEAR_MONTH'].unique()\n",
    "time_interval.sort()\n",
    "hour_interval = mrt_master_df['TIME_PER_HOUR'].unique()\n",
    "hour_interval.sort()"
   ]
  },
  {
   "cell_type": "code",
   "execution_count": 52,
   "metadata": {},
   "outputs": [],
   "source": [
    "def compute_time_series(col: str):\n",
    "\n",
    "    if col not in mrt_master_df:\n",
    "        raise ValueError('Column does not exist')\n",
    "    temp_dict = {}\n",
    "\n",
    "    for station in tqdm(station_network_list):\n",
    "        for time in time_interval:\n",
    "            temp_df = mrt_master_df[(mrt_master_df['PT_CODE'] == station) & (mrt_master_df['YEAR_MONTH'] == time)]\n",
    "            val = temp_df[col].mean() # Takes mean of all rows\n",
    "            if station not in temp_dict:\n",
    "                temp_dict[station] = {}\n",
    "            temp_dict[station][time] = val\n",
    "    return temp_dict\n",
    "\n",
    "def compute_time_series_with_hour(col: str):\n",
    "\n",
    "    if col not in mrt_master_df:\n",
    "        raise ValueError('Column does not exist')\n",
    "    temp_dict = {}\n",
    "\n",
    "    for station in tqdm(station_network_list):\n",
    "        for time in time_interval:\n",
    "            for hour in hour_interval:\n",
    "                temp_df = mrt_master_df[(mrt_master_df['PT_CODE'] == station) & (mrt_master_df['YEAR_MONTH'] == time) & (mrt_master_df['TIME_PER_HOUR'] == hour)]\n",
    "                val = temp_df[col].mean() # Takes mean of all rows\n",
    "                if station not in temp_dict:\n",
    "                    temp_dict[station] = {}\n",
    "                temp_dict[station][f'{time} H{hour}:00'] = val\n",
    "    return temp_dict"
   ]
  },
  {
   "cell_type": "code",
   "execution_count": 53,
   "metadata": {},
   "outputs": [
    {
     "name": "stderr",
     "output_type": "stream",
     "text": [
      "  0%|          | 0/182 [00:00<?, ?it/s]"
     ]
    },
    {
     "name": "stderr",
     "output_type": "stream",
     "text": [
      "100%|██████████| 182/182 [00:15<00:00, 11.83it/s]\n",
      "100%|██████████| 182/182 [05:03<00:00,  1.67s/it]\n"
     ]
    }
   ],
   "source": [
    "ts_matrix = pd.DataFrame(compute_time_series('TOTAL_TAP_IN_VOLUME'))\n",
    "ts_matrix_hourly = pd.DataFrame(compute_time_series_with_hour('TOTAL_TAP_IN_VOLUME'))"
   ]
  },
  {
   "cell_type": "code",
   "execution_count": 54,
   "metadata": {},
   "outputs": [],
   "source": [
    "# Shortcut solution to set all NA values to 0\n",
    "ts_matrix.fillna(0, inplace=True)\n",
    "ts_matrix_hourly.fillna(0, inplace=True)\n",
    "\n",
    "# TODO Imputation for NA values"
   ]
  },
  {
   "cell_type": "code",
   "execution_count": 55,
   "metadata": {},
   "outputs": [],
   "source": [
    "ts_matrix.to_csv('Data\\Master Sets\\StationTimeSeries_TapInVolume.csv')\n",
    "ts_matrix_hourly.to_csv('Data\\Master Sets\\StationTimeSeries_TapInVolume_Hourly.csv')"
   ]
  }
 ],
 "metadata": {
  "kernelspec": {
   "display_name": ".venv",
   "language": "python",
   "name": "python3"
  },
  "language_info": {
   "codemirror_mode": {
    "name": "ipython",
    "version": 3
   },
   "file_extension": ".py",
   "mimetype": "text/x-python",
   "name": "python",
   "nbconvert_exporter": "python",
   "pygments_lexer": "ipython3",
   "version": "3.10.4"
  }
 },
 "nbformat": 4,
 "nbformat_minor": 2
}
