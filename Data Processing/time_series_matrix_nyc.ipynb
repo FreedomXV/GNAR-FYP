{
 "cells": [
  {
   "cell_type": "code",
   "execution_count": 65,
   "metadata": {},
   "outputs": [],
   "source": [
    "import pandas as pd\n",
    "from pandas.api.types import is_numeric_dtype\n",
    "from tqdm import tqdm"
   ]
  },
  {
   "cell_type": "code",
   "execution_count": 66,
   "metadata": {},
   "outputs": [],
   "source": [
    "frequency = 'monthly'\n",
    "column = 'ridership'\n",
    "years = [2020,2021,2022,2023]"
   ]
  },
  {
   "cell_type": "code",
   "execution_count": 67,
   "metadata": {},
   "outputs": [],
   "source": [
    "nyc_master_df = pd.read_csv(f'Data/Master Sets/NYC Master/Yearly Combined/NYC_Combined_{frequency}.csv')"
   ]
  },
  {
   "cell_type": "code",
   "execution_count": null,
   "metadata": {},
   "outputs": [],
   "source": [
    "nyc_master_df.head()"
   ]
  },
  {
   "cell_type": "code",
   "execution_count": 69,
   "metadata": {},
   "outputs": [],
   "source": [
    "nyc_master_df = nyc_master_df[nyc_master_df['year'].isin(years)]"
   ]
  },
  {
   "cell_type": "code",
   "execution_count": 70,
   "metadata": {},
   "outputs": [],
   "source": [
    "station_network_list = nyc_master_df['GTFS Stop ID'].unique()\n",
    "station_network_list.sort()\n",
    "time_interval = nyc_master_df['unique_time'].unique()\n",
    "time_interval.sort()"
   ]
  },
  {
   "cell_type": "code",
   "execution_count": 71,
   "metadata": {},
   "outputs": [],
   "source": [
    "def compute_time_series(col: str):\n",
    "\n",
    "    if col not in nyc_master_df:\n",
    "        raise ValueError('Column does not exist')\n",
    "    temp_dict = {}\n",
    "\n",
    "    if is_numeric_dtype(nyc_master_df[col]):\n",
    "        print('is numeric')\n",
    "    else:\n",
    "        print('is not numeric')\n",
    "\n",
    "    for station in tqdm(station_network_list):\n",
    "        for time in time_interval:\n",
    "            temp_df = nyc_master_df[(nyc_master_df['GTFS Stop ID'] == station) & (nyc_master_df['unique_time'] == time)]\n",
    "            if is_numeric_dtype(temp_df[col]):\n",
    "                val = temp_df[col].mean() # Takes mean of all rows\n",
    "            else:\n",
    "                val = temp_df[col].max()\n",
    "            if station not in temp_dict:\n",
    "                temp_dict[station] = {}\n",
    "            temp_dict[station][time] = val\n",
    "    return temp_dict"
   ]
  },
  {
   "cell_type": "code",
   "execution_count": null,
   "metadata": {},
   "outputs": [],
   "source": [
    "ts_matrix = pd.DataFrame(compute_time_series(column))"
   ]
  },
  {
   "cell_type": "code",
   "execution_count": null,
   "metadata": {},
   "outputs": [],
   "source": [
    "ts_matrix"
   ]
  },
  {
   "cell_type": "code",
   "execution_count": 74,
   "metadata": {},
   "outputs": [],
   "source": [
    "# Shortcut solution to set all NA values to 0\n",
    "ts_matrix.fillna(0, inplace=True)\n",
    "\n",
    "# TODO Imputation for NA values"
   ]
  },
  {
   "cell_type": "code",
   "execution_count": 75,
   "metadata": {},
   "outputs": [],
   "source": [
    "ts_matrix.to_csv(f'Data/Master Sets/NYC Master/NYC_Time_Series_{frequency}_{column}.csv')"
   ]
  },
  {
   "cell_type": "code",
   "execution_count": null,
   "metadata": {},
   "outputs": [],
   "source": []
  }
 ],
 "metadata": {
  "kernelspec": {
   "display_name": ".venv",
   "language": "python",
   "name": "python3"
  },
  "language_info": {
   "codemirror_mode": {
    "name": "ipython",
    "version": 3
   },
   "file_extension": ".py",
   "mimetype": "text/x-python",
   "name": "python",
   "nbconvert_exporter": "python",
   "pygments_lexer": "ipython3",
   "version": "3.10.4"
  }
 },
 "nbformat": 4,
 "nbformat_minor": 2
}
